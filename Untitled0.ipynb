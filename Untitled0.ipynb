{
 "cells": [
  {
   "cell_type": "code",
   "execution_count": 4,
   "metadata": {
    "colab": {
     "base_uri": "https://localhost:8080/"
    },
    "executionInfo": {
     "elapsed": 4838,
     "status": "ok",
     "timestamp": 1734613887604,
     "user": {
      "displayName": "Deep Sharma",
      "userId": "02061825462935059039"
     },
     "user_tz": -330
    },
    "id": "vyhEDtHIUyAn",
    "outputId": "32a72472-269c-4d6a-ca7f-d8915dc4a938"
   },
   "outputs": [
    {
     "name": "stdout",
     "output_type": "stream",
     "text": [
      "<module 'tensorflow._api.v2.version' from 'd:\\\\dev\\\\ml\\\\.venv\\\\lib\\\\site-packages\\\\tensorflow\\\\_api\\\\v2\\\\version\\\\__init__.py'>\n"
     ]
    }
   ],
   "source": [
    "\n",
    "import tensorflow as tf\n",
    "import numpy as np\n",
    "print(tf.version)"
   ]
  },
  {
   "cell_type": "code",
   "execution_count": 5,
   "metadata": {
    "colab": {
     "base_uri": "https://localhost:8080/"
    },
    "executionInfo": {
     "elapsed": 16,
     "status": "ok",
     "timestamp": 1734613887604,
     "user": {
      "displayName": "Deep Sharma",
      "userId": "02061825462935059039"
     },
     "user_tz": -330
    },
    "id": "Cge7o0CrkE78",
    "outputId": "e0493b91-5db0-472e-b49e-3c56307aff80"
   },
   "outputs": [
    {
     "data": {
      "text/plain": [
       "<tf.Tensor: shape=(2, 2), dtype=float32, numpy=\n",
       "array([[ 0.27305737, -0.29925638],\n",
       "       [-0.3652325 ,  0.61883307]], dtype=float32)>"
      ]
     },
     "execution_count": 5,
     "metadata": {},
     "output_type": "execute_result"
    }
   ],
   "source": [
    "tensor1=tf.random.Generator.from_seed(11)\n",
    "tensor1.normal(shape=(2,2))"
   ]
  },
  {
   "cell_type": "code",
   "execution_count": 6,
   "metadata": {
    "colab": {
     "base_uri": "https://localhost:8080/"
    },
    "executionInfo": {
     "elapsed": 13,
     "status": "ok",
     "timestamp": 1734613887604,
     "user": {
      "displayName": "Deep Sharma",
      "userId": "02061825462935059039"
     },
     "user_tz": -330
    },
    "id": "aVKq0MZLnJWK",
    "outputId": "3e768b29-e9ba-4897-f639-3ccfba09f51b"
   },
   "outputs": [
    {
     "data": {
      "text/plain": [
       "<tf.Tensor: shape=(9,), dtype=int32, numpy=array([1, 2, 3, 4, 5, 6, 7, 8, 9], dtype=int32)>"
      ]
     },
     "execution_count": 6,
     "metadata": {},
     "output_type": "execute_result"
    }
   ],
   "source": [
    "numpy_A=np.arange(1,10,dtype=np.int32)\n",
    "numpy_A\n",
    "tf.constant(numpy_A)"
   ]
  },
  {
   "cell_type": "code",
   "execution_count": 7,
   "metadata": {
    "colab": {
     "base_uri": "https://localhost:8080/"
    },
    "executionInfo": {
     "elapsed": 13,
     "status": "ok",
     "timestamp": 1734613887605,
     "user": {
      "displayName": "Deep Sharma",
      "userId": "02061825462935059039"
     },
     "user_tz": -330
    },
    "id": "IgxLdZW1F8I9",
    "outputId": "b6b47f6c-e626-431b-b05b-568c830c84ce"
   },
   "outputs": [
    {
     "data": {
      "text/plain": [
       "<tf.Tensor: shape=(3, 4, 2), dtype=float32, numpy=\n",
       "array([[[0., 0.],\n",
       "        [0., 0.],\n",
       "        [0., 0.],\n",
       "        [0., 0.]],\n",
       "\n",
       "       [[0., 0.],\n",
       "        [0., 0.],\n",
       "        [0., 0.],\n",
       "        [0., 0.]],\n",
       "\n",
       "       [[0., 0.],\n",
       "        [0., 0.],\n",
       "        [0., 0.],\n",
       "        [0., 0.]]], dtype=float32)>"
      ]
     },
     "execution_count": 7,
     "metadata": {},
     "output_type": "execute_result"
    }
   ],
   "source": [
    "rank1=tf.zeros([3,4,2])\n",
    "rank1\n"
   ]
  },
  {
   "cell_type": "code",
   "execution_count": null,
   "metadata": {
    "colab": {
     "base_uri": "https://localhost:8080/"
    },
    "executionInfo": {
     "elapsed": 11,
     "status": "ok",
     "timestamp": 1734613887605,
     "user": {
      "displayName": "Deep Sharma",
      "userId": "02061825462935059039"
     },
     "user_tz": -330
    },
    "id": "N4k1iGclLNsQ",
    "outputId": "d233eac3-d505-4910-a09e-b50728e38003"
   },
   "outputs": [],
   "source": [
    "rank2=rank1[...,tf.newaxis]\n",
    "rank2"
   ]
  },
  {
   "cell_type": "code",
   "execution_count": null,
   "metadata": {
    "colab": {
     "base_uri": "https://localhost:8080/"
    },
    "executionInfo": {
     "elapsed": 9,
     "status": "ok",
     "timestamp": 1734613887605,
     "user": {
      "displayName": "Deep Sharma",
      "userId": "02061825462935059039"
     },
     "user_tz": -330
    },
    "id": "pfysSE-aNpxK",
    "outputId": "fa3afef6-58fd-4f57-d416-4340415b2723"
   },
   "outputs": [],
   "source": [
    "test_tensor=tf.constant([[10,20],[19,22]])\n",
    "test_tensor"
   ]
  },
  {
   "cell_type": "code",
   "execution_count": null,
   "metadata": {
    "colab": {
     "base_uri": "https://localhost:8080/"
    },
    "executionInfo": {
     "elapsed": 7,
     "status": "ok",
     "timestamp": 1734613887605,
     "user": {
      "displayName": "Deep Sharma",
      "userId": "02061825462935059039"
     },
     "user_tz": -330
    },
    "id": "8lSFl-ThTxH0",
    "outputId": "f3e2a95f-52fa-4628-ab52-acc54495b249"
   },
   "outputs": [],
   "source": [
    "test_tensor\n",
    "print(test_tensor*test_tensor)\n",
    "\n",
    "tf.matmul(test_tensor,test_tensor)"
   ]
  },
  {
   "cell_type": "code",
   "execution_count": null,
   "metadata": {
    "colab": {
     "base_uri": "https://localhost:8080/"
    },
    "executionInfo": {
     "elapsed": 415,
     "status": "ok",
     "timestamp": 1734615845136,
     "user": {
      "displayName": "Deep Sharma",
      "userId": "02061825462935059039"
     },
     "user_tz": -330
    },
    "id": "vQip8zfuG4Vu",
    "outputId": "84827249-eb47-41d7-c50e-bad75ee67a0d"
   },
   "outputs": [],
   "source": [
    "t1=tf.constant([\n",
    "     [10,30],\n",
    "     [70,55]])\n",
    "t2=tf.constant([[45,60],[30,55],[9,77]])\n",
    "tf.matmul(t1,tf.reshape(t2,shape=(2,3)))\n",
    "tf.matmul(t1,tf.transpose(t2))"
   ]
  },
  {
   "cell_type": "markdown",
   "metadata": {
    "id": "odSzoYOiUrxN"
   },
   "source": [
    "Aggeration\n"
   ]
  },
  {
   "cell_type": "code",
   "execution_count": null,
   "metadata": {
    "colab": {
     "base_uri": "https://localhost:8080/"
    },
    "executionInfo": {
     "elapsed": 8,
     "status": "ok",
     "timestamp": 1734618715244,
     "user": {
      "displayName": "Deep Sharma",
      "userId": "02061825462935059039"
     },
     "user_tz": -330
    },
    "id": "jYWD06mAUzo1",
    "outputId": "d229d73d-dc25-444b-bde0-8696e5a20f15"
   },
   "outputs": [],
   "source": [
    "aggt=tf.constant(np.random.randint(0,100,size=50))\n",
    "aggt"
   ]
  },
  {
   "cell_type": "code",
   "execution_count": null,
   "metadata": {
    "colab": {
     "base_uri": "https://localhost:8080/"
    },
    "executionInfo": {
     "elapsed": 485,
     "status": "ok",
     "timestamp": 1734618745655,
     "user": {
      "displayName": "Deep Sharma",
      "userId": "02061825462935059039"
     },
     "user_tz": -330
    },
    "id": "731GmWZRVSUK",
    "outputId": "2576b8fd-0563-4261-e9aa-205d859889c2"
   },
   "outputs": [],
   "source": [
    "tf.reduce_min(aggt)"
   ]
  },
  {
   "cell_type": "code",
   "execution_count": null,
   "metadata": {
    "colab": {
     "base_uri": "https://localhost:8080/"
    },
    "executionInfo": {
     "elapsed": 437,
     "status": "ok",
     "timestamp": 1734618772172,
     "user": {
      "displayName": "Deep Sharma",
      "userId": "02061825462935059039"
     },
     "user_tz": -330
    },
    "id": "ucjfQajyVb__",
    "outputId": "a40ebe5e-4132-4e89-ddf8-c4a6865876d8"
   },
   "outputs": [],
   "source": [
    "tf.reduce_max(aggt)"
   ]
  },
  {
   "cell_type": "code",
   "execution_count": null,
   "metadata": {
    "colab": {
     "base_uri": "https://localhost:8080/"
    },
    "executionInfo": {
     "elapsed": 478,
     "status": "ok",
     "timestamp": 1734618793775,
     "user": {
      "displayName": "Deep Sharma",
      "userId": "02061825462935059039"
     },
     "user_tz": -330
    },
    "id": "0N4R0rxWVgsZ",
    "outputId": "955fbfa5-a20b-492b-dd23-e1d0c84b7687"
   },
   "outputs": [],
   "source": [
    "tf.reduce_sum(aggt)"
   ]
  },
  {
   "cell_type": "code",
   "execution_count": null,
   "metadata": {
    "colab": {
     "base_uri": "https://localhost:8080/"
    },
    "executionInfo": {
     "elapsed": 456,
     "status": "ok",
     "timestamp": 1734624620516,
     "user": {
      "displayName": "Deep Sharma",
      "userId": "02061825462935059039"
     },
     "user_tz": -330
    },
    "id": "9bg5XZ1ij9H1",
    "outputId": "21660837-692b-4a13-9871-7e5f4e476dba"
   },
   "outputs": [],
   "source": [
    "tf.math.reduce_variance(tf.cast(aggt,dtype=tf.float32))"
   ]
  },
  {
   "cell_type": "code",
   "execution_count": null,
   "metadata": {
    "colab": {
     "base_uri": "https://localhost:8080/"
    },
    "executionInfo": {
     "elapsed": 5,
     "status": "ok",
     "timestamp": 1734624952648,
     "user": {
      "displayName": "Deep Sharma",
      "userId": "02061825462935059039"
     },
     "user_tz": -330
    },
    "id": "1yX8q6gXsua8",
    "outputId": "3d94f60b-6c73-41ee-cc51-d4ae184eae95"
   },
   "outputs": [],
   "source": [
    "tf.random.set_seed(19)\n",
    "F=tf.random.uniform(shape=[50])\n",
    "F"
   ]
  },
  {
   "cell_type": "code",
   "execution_count": null,
   "metadata": {
    "colab": {
     "base_uri": "https://localhost:8080/"
    },
    "executionInfo": {
     "elapsed": 546,
     "status": "ok",
     "timestamp": 1734624974338,
     "user": {
      "displayName": "Deep Sharma",
      "userId": "02061825462935059039"
     },
     "user_tz": -330
    },
    "id": "NlqPJHJFtEct",
    "outputId": "92a6f257-5d2f-467f-f404-8a4743c4e8bc"
   },
   "outputs": [],
   "source": [
    "tf.argmax(F)"
   ]
  },
  {
   "cell_type": "code",
   "execution_count": null,
   "metadata": {
    "colab": {
     "base_uri": "https://localhost:8080/"
    },
    "executionInfo": {
     "elapsed": 454,
     "status": "ok",
     "timestamp": 1734625013776,
     "user": {
      "displayName": "Deep Sharma",
      "userId": "02061825462935059039"
     },
     "user_tz": -330
    },
    "id": "LkKB_efItOnR",
    "outputId": "6575520b-1be5-4523-dbc8-22ae456ab786"
   },
   "outputs": [],
   "source": [
    "tf.reduce_max(F)"
   ]
  },
  {
   "cell_type": "code",
   "execution_count": null,
   "metadata": {
    "colab": {
     "base_uri": "https://localhost:8080/"
    },
    "executionInfo": {
     "elapsed": 626,
     "status": "ok",
     "timestamp": 1734625040978,
     "user": {
      "displayName": "Deep Sharma",
      "userId": "02061825462935059039"
     },
     "user_tz": -330
    },
    "id": "tVOl_soUtUmH",
    "outputId": "f840e420-55b8-4e2f-bb5a-8e693a721d0c"
   },
   "outputs": [],
   "source": [
    "F[tf.argmax(F)]"
   ]
  },
  {
   "cell_type": "markdown",
   "metadata": {
    "id": "4xLas7gNueD6"
   },
   "source": [
    "###One hot encoding"
   ]
  },
  {
   "cell_type": "code",
   "execution_count": null,
   "metadata": {
    "colab": {
     "base_uri": "https://localhost:8080/"
    },
    "executionInfo": {
     "elapsed": 436,
     "status": "ok",
     "timestamp": 1734625784921,
     "user": {
      "displayName": "Deep Sharma",
      "userId": "02061825462935059039"
     },
     "user_tz": -330
    },
    "id": "n-1_blN7uqvD",
    "outputId": "7ae2cbbc-92ff-4935-ef3f-d603c898437c"
   },
   "outputs": [],
   "source": [
    "l=[0,5,6,3]\n",
    "tf.one_hot(l,depth=5, on_value=4, off_value=2)"
   ]
  },
  {
   "cell_type": "code",
   "execution_count": null,
   "metadata": {
    "id": "Vb0nRzIJwSXR"
   },
   "outputs": [],
   "source": []
  }
 ],
 "metadata": {
  "colab": {
   "authorship_tag": "ABX9TyOWv7yeSN0KwjjxOWAP+Zci",
   "provenance": []
  },
  "kernelspec": {
   "display_name": ".venv",
   "language": "python",
   "name": "python3"
  },
  "language_info": {
   "codemirror_mode": {
    "name": "ipython",
    "version": 3
   },
   "file_extension": ".py",
   "mimetype": "text/x-python",
   "name": "python",
   "nbconvert_exporter": "python",
   "pygments_lexer": "ipython3",
   "version": "3.9.13"
  }
 },
 "nbformat": 4,
 "nbformat_minor": 0
}
